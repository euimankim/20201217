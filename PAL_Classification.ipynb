{
 "cells": [
  {
   "cell_type": "code",
   "execution_count": null,
   "metadata": {},
   "outputs": [],
   "source": [
    "# !pip install hana_ml --upgrade"
   ]
  },
  {
   "cell_type": "code",
   "execution_count": null,
   "metadata": {},
   "outputs": [],
   "source": [
    "import hana_ml"
   ]
  },
  {
   "cell_type": "code",
   "execution_count": null,
   "metadata": {},
   "outputs": [],
   "source": [
    "print(hana_ml.__version__)"
   ]
  },
  {
   "cell_type": "code",
   "execution_count": null,
   "metadata": {},
   "outputs": [],
   "source": [
    "from hana_ml import dataframe\n",
    "from hana_ml.dataframe import ConnectionContext"
   ]
  },
  {
   "cell_type": "code",
   "execution_count": null,
   "metadata": {},
   "outputs": [],
   "source": [
    "conn = dataframe.ConnectionContext(address='5ba35c1e-58ff-44a3-859a-f6715c4d6861.hana.prod-jp10.hanacloud.ondemand.com', \n",
    "                                   port=443,\n",
    "                                   user='HANAML', \n",
    "                                   password='Welcome01')"
   ]
  },
  {
   "cell_type": "code",
   "execution_count": null,
   "metadata": {},
   "outputs": [],
   "source": [
    "conn.connection.isconnected()"
   ]
  },
  {
   "cell_type": "code",
   "execution_count": null,
   "metadata": {},
   "outputs": [],
   "source": [
    "import pandas as pd"
   ]
  },
  {
   "cell_type": "code",
   "execution_count": null,
   "metadata": {},
   "outputs": [],
   "source": [
    "df_train=pd.read_csv('iris_train_data_tbl.csv')"
   ]
  },
  {
   "cell_type": "code",
   "execution_count": null,
   "metadata": {},
   "outputs": [],
   "source": [
    "df_train"
   ]
  },
  {
   "cell_type": "code",
   "execution_count": null,
   "metadata": {},
   "outputs": [],
   "source": [
    "dataframe.create_dataframe_from_pandas(conn, df_train, 'IRIS_TRAIN_TBL_00', 'HANAML', force=True, replace=True)"
   ]
  },
  {
   "cell_type": "code",
   "execution_count": null,
   "metadata": {},
   "outputs": [],
   "source": [
    "hdf_train = conn.table('IRIS_TRAIN_TBL_00')"
   ]
  },
  {
   "cell_type": "code",
   "execution_count": null,
   "metadata": {},
   "outputs": [],
   "source": [
    "hdf_train.head(5).collect()"
   ]
  },
  {
   "cell_type": "code",
   "execution_count": null,
   "metadata": {},
   "outputs": [],
   "source": [
    "hdf_train.count()"
   ]
  },
  {
   "cell_type": "code",
   "execution_count": null,
   "metadata": {},
   "outputs": [],
   "source": [
    "# https://blogs.sap.com/2019/08/21/conquer-your-data-with-the-hana-dataframe-exploratory-data-analysis/\n",
    "from hana_ml.visualizers.eda import EDAVisualizer\n",
    "import matplotlib.pyplot as plt\n",
    "import time\n",
    "import numpy as np\n",
    "from hana_ml.algorithms.pal import stats"
   ]
  },
  {
   "cell_type": "code",
   "execution_count": null,
   "metadata": {},
   "outputs": [],
   "source": [
    "f = plt.figure(figsize=(10,10))\n",
    "ax1 = f.add_subplot(111)\n",
    "start = time.time()\n",
    "eda = EDAVisualizer(ax1)\n",
    "ax, pie_data = eda.pie_plot(data = hdf_train, column = \"SPECIES\", title = \"SPECIES\", legend = True)\n",
    "plt.show()\n",
    "end=time.time()\n",
    "print(\"Time: {}s\".format(round(end-start),2))"
   ]
  },
  {
   "cell_type": "code",
   "execution_count": null,
   "metadata": {},
   "outputs": [],
   "source": [
    "f = plt.figure(figsize=(15,8))\n",
    "ax1 = f.add_subplot(111)\n",
    "eda = EDAVisualizer(ax1)\n",
    "ax, dist_data = eda.distribution_plot(data = hdf_train, column = \"SEPALLENGTHCM\", bins = 1, debrief=True)\n",
    "plt.show()"
   ]
  },
  {
   "cell_type": "code",
   "execution_count": null,
   "metadata": {},
   "outputs": [],
   "source": [
    "f = plt.figure(figsize=(12,8))\n",
    "ax1 = f.add_subplot(111)\n",
    "eda = EDAVisualizer(ax1)\n",
    "ax, corr_data = eda.correlation_plot(data = hdf_train, corr_cols = [\"SEPALLENGTHCM\", \"SEPALWIDTHCM\", \"PETALLENGTHCM\", \"PETALWIDTHCM\"], \n",
    "                                     label=True, cmap=\"Reds\")\n",
    "plt.show()"
   ]
  },
  {
   "cell_type": "code",
   "execution_count": null,
   "metadata": {},
   "outputs": [],
   "source": [
    "f = plt.figure(figsize=(15,8))\n",
    "ax1 = f.add_subplot(111)\n",
    "eda = EDAVisualizer(ax1)\n",
    "ax, bar_data = eda.bar_plot(data = hdf_train, column='SPECIES', aggregation={'SEPALLENGTHCM': 'avg'})\n",
    "plt.show()"
   ]
  },
  {
   "cell_type": "code",
   "execution_count": null,
   "metadata": {},
   "outputs": [],
   "source": [
    "from hana_ml.algorithms.pal import trees"
   ]
  },
  {
   "cell_type": "code",
   "execution_count": null,
   "metadata": {},
   "outputs": [],
   "source": [
    "rfc = trees.RandomForestClassifier(n_estimators=3,\n",
    "                                   max_features=3,\n",
    "                                   random_state=2,\n",
    "                                   split_threshold=0.00001,\n",
    "                                   calculate_oob=True,\n",
    "                                   min_samples_leaf=1, thread_ratio=0.5)"
   ]
  },
  {
   "cell_type": "code",
   "execution_count": null,
   "metadata": {},
   "outputs": [],
   "source": [
    "features = ['SEPALLENGTHCM','SEPALWIDTHCM','PETALLENGTHCM','PETALWIDTHCM']\n",
    "label = 'SPECIES'"
   ]
  },
  {
   "cell_type": "code",
   "execution_count": null,
   "metadata": {},
   "outputs": [],
   "source": [
    "rfc.fit(hdf_train, 'ID', features, label)"
   ]
  },
  {
   "cell_type": "code",
   "execution_count": null,
   "metadata": {},
   "outputs": [],
   "source": [
    "df_test=pd.read_csv('iris_test_data_tbl.csv')"
   ]
  },
  {
   "cell_type": "code",
   "execution_count": null,
   "metadata": {},
   "outputs": [],
   "source": [
    "df_test"
   ]
  },
  {
   "cell_type": "code",
   "execution_count": null,
   "metadata": {},
   "outputs": [],
   "source": [
    "dataframe.create_dataframe_from_pandas(conn, df_test, 'IRIS_TEST_TBL_00', 'HANAML', force=True, replace=True)"
   ]
  },
  {
   "cell_type": "code",
   "execution_count": null,
   "metadata": {},
   "outputs": [],
   "source": [
    "hdf_test = conn.table('IRIS_TEST_TBL_00')"
   ]
  },
  {
   "cell_type": "code",
   "execution_count": null,
   "metadata": {},
   "outputs": [],
   "source": [
    "hdf_test.count()"
   ]
  },
  {
   "cell_type": "code",
   "execution_count": null,
   "metadata": {},
   "outputs": [],
   "source": [
    "predict_df = rfc.predict(hdf_test, 'ID', features, verbose=False)"
   ]
  },
  {
   "cell_type": "code",
   "execution_count": null,
   "metadata": {},
   "outputs": [],
   "source": [
    "predict_df.collect()"
   ]
  },
  {
   "cell_type": "code",
   "execution_count": null,
   "metadata": {},
   "outputs": [],
   "source": [
    "rfc.score(hdf_test, 'ID', features, label)"
   ]
  },
  {
   "cell_type": "code",
   "execution_count": null,
   "metadata": {},
   "outputs": [],
   "source": []
  }
 ],
 "metadata": {
  "createdAt": "2020-12-15T09:35:40Z",
  "createdBy": "ta18",
  "description": "",
  "kernelspec": {
   "display_name": "Python 3",
   "language": "python",
   "name": "python3"
  },
  "language_info": {
   "codemirror_mode": {
    "name": "ipython",
    "version": 3
   },
   "file_extension": ".py",
   "mimetype": "text/x-python",
   "name": "python",
   "nbconvert_exporter": "python",
   "pygments_lexer": "ipython3",
   "version": "3.7.3"
  },
  "modifiedAt": "2020-12-15T09:35:40Z",
  "modifiedBy": "ta18",
  "name": "Untitled.ipynb",
  "scenarioId": "982e516e-c6a0-4aab-bb1b-2ce0db7ade09"
 },
 "nbformat": 4,
 "nbformat_minor": 4
}
